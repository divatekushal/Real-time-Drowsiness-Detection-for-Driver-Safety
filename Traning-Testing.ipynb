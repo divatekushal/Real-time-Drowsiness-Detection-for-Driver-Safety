{
 "cells": [
  {
   "cell_type": "markdown",
   "metadata": {},
   "source": [
    "Traning model"
   ]
  },
  {
   "cell_type": "code",
   "execution_count": null,
   "metadata": {},
   "outputs": [],
   "source": [
    "import tensorflow as tf  # type: ignore\n",
    "import cv2\n",
    "import os\n",
    "import matplotlib.pyplot as plt\n",
    "import numpy as np\n",
    "from tensorflow import keras\n",
    "from tensorflow.keras import layers   # type: ignore"
   ]
  },
  {
   "cell_type": "code",
   "execution_count": null,
   "metadata": {},
   "outputs": [],
   "source": [
    "Datadirectory = \"test_data/\"                     #dataset path\n",
    "Classes = [\"closed_eyes\" ,\"open_eyes\"]           #dataset path\n",
    "for category in Classes:\n",
    "    path= os.path.join(Datadirectory,category)\n",
    "    for img in os.listdir(path):\n",
    "        img_array=cv2.imread(os.path.join(path,img),cv2.IMREAD_GRAYSCALE)\n",
    "        backtorgb = cv2.cvtColor(img_array,cv2.COLOR_GRAY2RGB)\n",
    "         \n",
    "img_size=224\n",
    "training_Data = []\n",
    "def create_training_Data():\n",
    "   for category in Classes:\n",
    "       path = os.path.join(Datadirectory, category)\n",
    "       class_num = Classes.index(category) # 0 1,\n",
    "       for img in os.listdir(path):\n",
    "           try:\n",
    "               img_array = cv2.imread(os.path.join(path, img), cv2.IMREAD_GRAYSCALE)\n",
    "               backtorgb = cv2.cvtColor(img_array,cv2.COLOR_GRAY2RGB)\n",
    "               new_array = cv2.resize(backtorgb, (img_size, img_size))\n",
    "               training_Data.append([new_array,class_num])\n",
    "           except Exception as e:\n",
    "               pass\n",
    "create_training_Data()\n",
    "\n",
    "import random\n",
    "random.shuffle(training_Data)\n",
    "x=[]\n",
    "y=[]\n",
    "for features, label in training_Data:\n",
    "    x.append(features)\n",
    "    y.append(label)\n",
    "x=np.array(x).reshape(-1,img_size,img_size,3)\n",
    "\n",
    "x=x/255.0;\n",
    "y=np.array(y)\n",
    "\n",
    "import pickle\n",
    "pickle_out = open(\"x.pickle\",\"wb\")\n",
    "pickle.dump(x,pickle_out)\n",
    "pickle_out.close()\n",
    "pickle_out = open(\"y.pickle\",\"wb\")\n",
    "pickle.dump(y,pickle_out)\n",
    "pickle_out.close()\n",
    "\n",
    "model = tf.keras.applications.mobilenet.MobileNet()\n",
    "base_input =model.layers[1].input\n",
    "base_output = model.layers[-4].output\n",
    "Flat_layer =layers.Flatten()(base_output)\n",
    "final_output = layers.Dense(1)(Flat_layer)\n",
    "final_output = layers.Activation('sigmoid')(final_output)\n",
    "new_model = keras.Model(inputs = base_input , outputs = final_output)\n",
    "\n",
    "new_model.compile(loss = \"binary_crossentropy\",optimizer = \"adam\",metrics=[\"accuracy\"])\n",
    "new_model.fit(x,y,epochs = 1,validation_split =0.1)\n",
    "new_model.save(\"my_model.h5\")"
   ]
  },
  {
   "cell_type": "markdown",
   "metadata": {},
   "source": [
    "Testing model (input from given dataset)"
   ]
  },
  {
   "cell_type": "code",
   "execution_count": null,
   "metadata": {},
   "outputs": [],
   "source": [
    "new_model = keras.models.load_model(\"my_model.h5\")\n",
    "img_array=cv2.imread(\"test_data\\closed_eyes\\s0003_00003_0_0_0_0_0_01.png\",cv2.IMREAD_GRAYSCALE)   #test image path\n",
    "img_size=224\n",
    "backtorgb=cv2.cvtColor(img_array,cv2.COLOR_GRAY2RGB)\n",
    "new_array=cv2.resize(backtorgb,(img_size,img_size))\n",
    "x_input = np.array(new_array).reshape(1,img_size,img_size,3)\n",
    "plt.imshow(new_array)"
   ]
  },
  {
   "cell_type": "code",
   "execution_count": null,
   "metadata": {},
   "outputs": [],
   "source": [
    "x_input=x_input/255.0\n",
    "prediction = new_model.predict(x_input)\n",
    "prediction\n",
    "if prediction <0.5:\n",
    "    print(\"close\")\n",
    "else:\n",
    "    print(\"open\")    "
   ]
  },
  {
   "cell_type": "markdown",
   "metadata": {},
   "source": [
    "Testing model (input from outside )"
   ]
  },
  {
   "cell_type": "code",
   "execution_count": null,
   "metadata": {},
   "outputs": [],
   "source": [
    "new_model = keras.models.load_model(\"my1_model.h5\")\n",
    "img = cv2.imread(\"open_face.jpg\")                    #test image path\n",
    "plt.imshow(cv2.cvtColor(img,cv2.COLOR_BGR2RGB))"
   ]
  },
  {
   "cell_type": "code",
   "execution_count": null,
   "metadata": {},
   "outputs": [],
   "source": [
    "faceCascade = cv2.CascadeClassifier(cv2.data.haarcascades + \"haarcascade_frontalface_default.xml\")\n",
    "eye_cascade = cv2.CascadeClassifier(cv2.data.haarcascades + \"haarcascade_eye.xml\")\n",
    "gray= cv2.cvtColor(img,cv2.COLOR_BGR2GRAY)\n",
    "eyes = eye_cascade.detectMultiScale(gray,1.1,4)\n",
    "for(x,y,w,h) in eyes:\n",
    "    cv2.rectangle(img,(x,y), (x+w,y+h),(0,255,0),2)\n",
    "plt.imshow(cv2.cvtColor(img,cv2.COLOR_BGR2RGB))    "
   ]
  },
  {
   "cell_type": "code",
   "execution_count": null,
   "metadata": {},
   "outputs": [],
   "source": [
    "eye_cascade = cv2.CascadeClassifier(cv2.data.haarcascades + \"haarcascade_eye.xml\")\n",
    "gray= cv2.cvtColor(img, cv2.COLOR_BGR2GRAY)\n",
    "eyes= eye_cascade.detectMultiScale(gray, 1.1,4)\n",
    "for x,y,w,h in eyes:\n",
    "    roi_gray = gray[y:y+h, x:x+w]\n",
    "    roi_color = img[y:y+h, x:x+w]\n",
    "eyess =eye_cascade.detectMultiScale(roi_gray)\n",
    "if len(eyess) == 0:\n",
    "    print(\"eyes are not detected\")\n",
    "else:\n",
    "    for (ex,ey,ew, eh) in eyess:\n",
    "        eyes_roi = roi_color[ey:ey+eh,ex:ex+ew]\n",
    "plt.imshow(cv2.cvtColor(eyes_roi,cv2.COLOR_BGR2RGB))        "
   ]
  },
  {
   "cell_type": "code",
   "execution_count": null,
   "metadata": {},
   "outputs": [],
   "source": [
    "final_image  =cv2.resize(eyes_roi,(224,224))\n",
    "final_image = np.expand_dims(final_image,axis=0)\n",
    "final_image = final_image/255.0\n",
    "new_model.predict(final_image)\n",
    "if prediction <0.5:\n",
    "    print(\"close\")\n",
    "else:\n",
    "    print(\"open\")    \n",
    "    "
   ]
  }
 ],
 "metadata": {
  "kernelspec": {
   "display_name": "Python 3",
   "language": "python",
   "name": "python3"
  },
  "language_info": {
   "codemirror_mode": {
    "name": "ipython",
    "version": 3
   },
   "file_extension": ".py",
   "mimetype": "text/x-python",
   "name": "python",
   "nbconvert_exporter": "python",
   "pygments_lexer": "ipython3",
   "version": "3.11.0"
  }
 },
 "nbformat": 4,
 "nbformat_minor": 2
}
