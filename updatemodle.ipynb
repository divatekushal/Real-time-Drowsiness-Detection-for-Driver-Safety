{
 "cells": [
  {
   "cell_type": "code",
   "execution_count": 1,
   "metadata": {},
   "outputs": [],
   "source": [
    "import tensorflow as tf\n",
    "import cv2\n",
    "import os\n",
    "import numpy as np\n",
    "from tensorflow.keras import layers # type: ignore"
   ]
  },
  {
   "cell_type": "code",
   "execution_count": 3,
   "metadata": {},
   "outputs": [
    {
     "name": "stderr",
     "output_type": "stream",
     "text": [
      "WARNING:absl:Compiled the loaded model, but the compiled metrics have yet to be built. `model.compile_metrics` will be empty until you train or evaluate the model.\n"
     ]
    },
    {
     "name": "stdout",
     "output_type": "stream",
     "text": [
      "Epoch 1/3\n",
      "\u001b[1m  4/260\u001b[0m \u001b[37m━━━━━━━━━━━━━━━━━━━━\u001b[0m \u001b[1m19:10\u001b[0m 4s/step - accuracy: 0.9837 - loss: 0.0320"
     ]
    },
    {
     "ename": "",
     "evalue": "",
     "output_type": "error",
     "traceback": [
      "\u001b[1;31mThe Kernel crashed while executing code in the current cell or a previous cell. \n",
      "\u001b[1;31mPlease review the code in the cell(s) to identify a possible cause of the failure. \n",
      "\u001b[1;31mClick <a href='https://aka.ms/vscodeJupyterKernelCrash'>here</a> for more info. \n",
      "\u001b[1;31mView Jupyter <a href='command:jupyter.viewOutput'>log</a> for further details."
     ]
    }
   ],
   "source": [
    "loaded_model = tf.keras.models.load_model(\"my_model.h5\")\n",
    "\n",
    "loaded_model.compile(loss=\"binary_crossentropy\", optimizer=\"adam\", metrics=[\"accuracy\"])\n",
    "\n",
    "# Load additional data\n",
    "Datadirectory = \"test_data/\"\n",
    "Classes = [\"closed_eyes\", \"open_eyes\"]\n",
    "\n",
    "# Process additional data\n",
    "img_size = 224\n",
    "additional_training_data = []\n",
    "\n",
    "for category in Classes:\n",
    "    path = os.path.join(Datadirectory, category)\n",
    "    class_num = Classes.index(category)\n",
    "    for img in os.listdir(path):\n",
    "        try:\n",
    "            img_array = cv2.imread(os.path.join(path, img), cv2.IMREAD_GRAYSCALE)\n",
    "            backtorgb = cv2.cvtColor(img_array, cv2.COLOR_GRAY2RGB)\n",
    "            new_array = cv2.resize(backtorgb, (img_size, img_size))\n",
    "            additional_training_data.append([new_array, class_num])\n",
    "        except Exception as e:\n",
    "            pass\n",
    "\n",
    "# Shuffle additional training data\n",
    "np.random.shuffle(additional_training_data)\n",
    "\n",
    "# Separate features and labels\n",
    "x_additional = []\n",
    "y_additional = []\n",
    "\n",
    "for features, label in additional_training_data:\n",
    "    x_additional.append(features)\n",
    "    y_additional.append(label)\n",
    "\n",
    "x_additional = np.array(x_additional).reshape(-1, img_size, img_size, 3)\n",
    "x_additional = x_additional / 255.0\n",
    "y_additional = np.array(y_additional)\n",
    "\n",
    "# Train the model with additional data-\n",
    "loaded_model.fit(x_additional, y_additional, epochs=3, validation_split=0.1)\n",
    "\n",
    "# Save the updated model\n",
    "loaded_model.save(\"updated_model.h5\")\n"
   ]
  }
 ],
 "metadata": {
  "kernelspec": {
   "display_name": "Python 3",
   "language": "python",
   "name": "python3"
  },
  "language_info": {
   "codemirror_mode": {
    "name": "ipython",
    "version": 3
   },
   "file_extension": ".py",
   "mimetype": "text/x-python",
   "name": "python",
   "nbconvert_exporter": "python",
   "pygments_lexer": "ipython3",
   "version": "3.11.0"
  }
 },
 "nbformat": 4,
 "nbformat_minor": 2
}
